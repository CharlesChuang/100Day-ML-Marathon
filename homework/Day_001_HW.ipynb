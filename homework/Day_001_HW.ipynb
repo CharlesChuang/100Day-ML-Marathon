作業1:
  1.	你選的這組資料為何重要
  "細胞內的蛋白質扮演功能執行的腳色，因此蛋白質分布於細胞不同的位置是帶有隱含資訊的，若能基於既有的高通量細胞染色技術，開發出蛋白質分布辨識的模型，能大幅提升蛋白質與疾病的關聯性，促進細胞生物學的進展。"
  2.	資料從何而來 (tips: 譬如提供者是誰、以什麼方式蒐集)
  "Human Protein Atlas，是個生物資訊平台，專門提供生物蛋白質相關資訊，包含影像。收集方式是利用攜帶螢光物質之抗體針對細胞特定的蛋白質進行專一性染色，透過顯微鏡進行拍攝而得。"

  3.	蒐集而來的資料型態為何
      "圖像"
  4. 這組資料想解決的問題如何評估
     "針對已知的類別進行分類(classification)，並計算準確率(accuracy)"

作業2：
   想像你經營一個自由載客車隊，你希望能透過數據分析以提升業績，請你思考並描述你如何規劃整體的分析/解決方案：

   1.	核心問題為何 (tips：如何定義 「提升業績 & 你的假設」)
   "提升業績，亦即提高每位司機的乘載量，可嘗試提升載客需求或者降低原有需求的損失率。"
   "降低原有需求的損失率，假設行車動線和及時媒合是需要補強的問題，避免乘客等待車輛抵達上車點過久，而取消搭車。"


   2.	資料從何而來 (tips：哪些資料可能會對你想問的問題產生影響 & 資料如何蒐集)

   "分析前須先收集原先的業績及相關資訊，以做初步了解。
   (1)	原有的乘載比例(每單位時間之每位司機的乘載量)
   (2)	取消乘車之案例中，剛媒合案子時，當下乘客與司機的距離"

   3.	蒐集而來的資料型態為何
      "數值(距離、時間)及類別(是否取消乘車)"

   4.	你要回答的問題，其如何評估 (tips：你的假設如何驗證)
      "取消乘車與否，是否與等待時間呈正相關。"
      "可用邏輯斯回歸針對等待時間與取消乘車與否建出類別型回歸，並計算準確率。"

#=====================================================================

import numpy as np
import matplotlib.pyplot as plt
$MSE = \frac{1}{n}\sum_{i=1}^{n}{(Y_i - \hat{Y}_i)^2}$

def mean_squared_error(x,y):
    each_errors = list()
    for i in range(0,len(x)):
        each_errors.append((x[i]-y[i])**2)
    MSE = np.sum(each_errors)/len(x)
    return(MSE)
def mean_absolute_error(x,y):
    each_errors = list()
    for i in range(0,len(x)):
        each_errors.append(abs(x[i]-y[i]))
    MAE = np.sum(each_errors)/len(x)
    return(MAE)
#================================================================
w = 3
b = 0.5

x_lin = np.linspace(0, 100, 101)

y = (x_lin + np.random.randn(101) * 5) * w + b

plt.plot(x_lin, y, 'b.', label = 'data points');plt.title("Assume we have data points");plt.legend(loc = 2);plt.show()

#================================================================
y_hat = x_lin * w + b
plt.plot(x_lin, y, 'b.', label = 'data');plt.plot(x_lin, y_hat, 'r-', label = 'prediction');plt.title("Assume we have data points (And the prediction)");plt.legend(loc = 2);plt.show()
#================================================================

# 執行 Function, 確認有沒有正常執行
MSE = mean_squared_error(y, y_hat)
MAE = mean_absolute_error(y, y_hat)

print("The Mean squared error is %.3f" % (MSE))
print("The Mean absolute error is %.3f" % (MAE))
