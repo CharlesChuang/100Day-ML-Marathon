{
 "cells": [
  {
   "cell_type": "markdown",
   "metadata": {},
   "source": [
    "## �m�߮ɶ�\n",
    "�b�p�q����ƤW�A�ڭ̥β����N�i�H�ݱo�X�ӵ{���X�O�_���]�X�ڭ̲z�Q�������G\n",
    "\n",
    "�й��շQ���@�ӧA�ݭn����Ƶ��c (�̭����ȥi�H�O�H����)�A�M��ΤW�z����k�⥦�ܦ� pandas DataFrame\n",
    "\n",
    "#### Ex: �Q���@�� dataframe ��������A�@�ӬO��a�A�@�ӬO�H�f�A�D�H�f�Ƴ̦h����a\n",
    "\n",
    "### Hints: [�H�����ͼƭ�](https://blog.csdn.net/christianashannon/article/details/78867204)"
   ]
  },
  {
   "cell_type": "code",
   "execution_count": null,
   "metadata": {
    "collapsed": true
   },
   "outputs": [],
   "source": [
    "import pandas as pd\n",
    "import numpy as np"
   ]
  },
  {
   "cell_type": "code",
   "execution_count": null,
   "metadata": {},
   "outputs": [{
        "data":{
            "text/html": [
              "<div>\n",
              "<style>\n",
              "    .dataframe thead tr:only-child th {\n",
              "      text-align: right;\n",
              "    }\n",
              "\n",
              "    .dataframe thead th {\n",
              "      text-align: left;\n",
              "    }\n",
              "\n",
              "    .dataframe tbody tr th {\n",
              "      vertical-align: top;\n",
              "    }\n",
              "</style>\n",
              "<table border=\"1\" class=\"dataframe\">\n",
              "  <thead>\n",
              "    <tr style=\"text-align: right;\">\n",
              "      <th></th>\n",
              "      <th>��a</th>\n",
              "      <th>�H�f</th>\n",
              "    </tr>\n",
              "  </thead>\n",
              "  <tbody>\n",
              "    <tr>\n",
              "      <th>0</th>\n",
              "      <td>Japan</td>\n",
              "      <td>12.680</td>\n",
              "    </tr>\n",
              "    <tr>\n",
              "      <th>1</th>\n",
              "      <td>Taiwan</td>\n",
              "      <td>2.358</td>\n",
              "    </tr>\n",
              "    <tr>\n",
              "      <th>2</th>\n",
              "      <td>USA</td>\n",
              "      <td>32.570</td>\n",
              "    </tr>\n",
              "  </tbody>\n",
              "</table>\n",
              "</div>"
            ],
            "text/plain":[
            ]
        },
        "execution_count": null,
        "metadata": {},
        "output_type": "execute_result"
      }
   ],
   "source": [
    "data = {'��a':['Japan','Taiwan','USA'],'�H�f':[12.68,2.358,32.57]}\n",
    "data_frame = pd.DataFrame(data)\n",
    "data_frame['��a'].max()\n"
   ]
  },
  {
   "cell_type": "code",
   "execution_count": null,
   "metadata": {
    "collapsed": true
   },
   "outputs": [],
   "source": []
  }
 ],
 "metadata": {
  "kernelspec": {
   "display_name": "Python 3",
   "language": "python",
   "name": "python3"
  },
  "language_info": {
   "codemirror_mode": {
    "name": "ipython",
    "version": 3
   },
   "file_extension": ".py",
   "mimetype": "text/x-python",
   "name": "python",
   "nbconvert_exporter": "python",
   "pygments_lexer": "ipython3",
   "version": "3.6.1"
  }
 },
 "nbformat": 4,
 "nbformat_minor": 2
}
