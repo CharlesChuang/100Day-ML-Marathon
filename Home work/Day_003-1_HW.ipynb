{
 "cells": [
  {
   "cell_type": "markdown",
   "metadata": {},
   "source": [
    "## �m�߮ɶ�\n",
    "�b�p�q����ƤW�A�ڭ̥β����N�i�H�ݱo�X�ӵ{���X�O�_���]�X�ڭ̲z�Q�������G\n",
    "\n",
    "�й��շQ���@�ӧA�ݭn����Ƶ��c (�̭����ȥi�H�O�H����)�A�M��ΤW�z����k�⥦�ܦ� pandas DataFrame\n",
    "\n",
    "#### Ex: �Q���@�� dataframe ��������A�@�ӬO��a�A�@�ӬO�H�f�A�D�H�f�Ƴ̦h����a\n",
    "\n",
    "### Hints: [�H�����ͼƭ�](https://blog.csdn.net/christianashannon/article/details/78867204)"
   ]
  },
  {
   "cell_type": "code",
   "execution_count": null,
   "metadata": {
    "collapsed": true
   },
   "outputs": [],
   "source": [
    "import pandas as pd\n",
    "import numpy as np"
   ]
  },
  {
   "cell_type": "code",
   "execution_count": null,
   "metadata": {},
   "outputs": [
        {
         "data":
          {
            "text/plain":[
                "   ��a      �H�f  \\\n",
                "0  Japan    12.680  \n",
                "1  Taiwan   2.358  \n",
                "2  USA      32.570  \n"
                ]
          },
          "execution_count": 6,
          "metadata": {},
          "output_type": "execute_result"
        }
   ],
   "source": [
    "data = {'��a':['Japan','Taiwan','USA'],'�H�f':[12.68,2.358,32.57]}\n",
    "data_frame = pd.DataFrame(data)\n",
    "data_frame['��a'].max()\n"
   ]
  },
  {
   "cell_type": "code",
   "execution_count": null,
   "metadata": {
    "collapsed": true
   },
   "outputs": [],
   "source": []
  }
 ],
 "metadata": {
  "kernelspec": {
   "display_name": "Python 3",
   "language": "python",
   "name": "python3"
  },
  "language_info": {
   "codemirror_mode": {
    "name": "ipython",
    "version": 3
   },
   "file_extension": ".py",
   "mimetype": "text/x-python",
   "name": "python",
   "nbconvert_exporter": "python",
   "pygments_lexer": "ipython3",
   "version": "3.6.1"
  }
 },
 "nbformat": 4,
 "nbformat_minor": 2
}
